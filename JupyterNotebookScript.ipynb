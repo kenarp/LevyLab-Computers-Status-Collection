{
 "cells": [
  {
   "cell_type": "code",
   "execution_count": 1,
   "id": "ac672f39",
   "metadata": {},
   "outputs": [],
   "source": [
    "import os\n",
    "import socket\n",
    "import platform\n",
    "import uuid\n",
    "import psycopg2 as db"
   ]
  },
  {
   "cell_type": "code",
   "execution_count": 11,
   "id": "183212d8",
   "metadata": {},
   "outputs": [],
   "source": [
    "cmd = 'ipconfig'\n",
    "res = os.popen(cmd)"
   ]
  },
  {
   "cell_type": "code",
   "execution_count": 16,
   "id": "e2638a06",
   "metadata": {},
   "outputs": [],
   "source": [
    "sys_info = platform.uname()"
   ]
  },
  {
   "cell_type": "code",
   "execution_count": 19,
   "id": "cc806532",
   "metadata": {},
   "outputs": [
    {
     "name": "stdout",
     "output_type": "stream",
     "text": [
      "uname_result(system='Windows', node='R9000p', release='10', version='10.0.19041', machine='AMD64', processor='AMD64 Family 25 Model 80 Stepping 0, AuthenticAMD')\n"
     ]
    }
   ],
   "source": [
    "print(sys_info)"
   ]
  },
  {
   "cell_type": "code",
   "execution_count": 25,
   "id": "01013653",
   "metadata": {},
   "outputs": [
    {
     "name": "stdout",
     "output_type": "stream",
     "text": [
      "Windows10.0.19041\n"
     ]
    }
   ],
   "source": [
    "operating_system = sys_info.system + sys_info.version\n",
    "print(operating_system)"
   ]
  },
  {
   "cell_type": "code",
   "execution_count": 24,
   "id": "859e1987",
   "metadata": {},
   "outputs": [
    {
     "name": "stdout",
     "output_type": "stream",
     "text": [
      "R9000p\n"
     ]
    }
   ],
   "source": [
    "hostname = sys_info.node\n",
    "print(hostname)"
   ]
  },
  {
   "cell_type": "code",
   "execution_count": 49,
   "id": "d224b8ad",
   "metadata": {},
   "outputs": [
    {
     "name": "stdout",
     "output_type": "stream",
     "text": [
      "AMD64 Family 25 Model 80 Stepping 0, AuthenticAMD\n"
     ]
    }
   ],
   "source": [
    "processor_model = sys_info.processor\n",
    "print(processor_model)"
   ]
  },
  {
   "cell_type": "code",
   "execution_count": 50,
   "id": "26645bd3",
   "metadata": {},
   "outputs": [
    {
     "name": "stdout",
     "output_type": "stream",
     "text": [
      "['172.17.176.1', '192.168.1.145']\n"
     ]
    }
   ],
   "source": [
    "ipv4_addr = socket.gethostbyname_ex(hostname)[2]\n",
    "print(ipv4_addr)"
   ]
  },
  {
   "cell_type": "code",
   "execution_count": 42,
   "id": "e1d530a4",
   "metadata": {},
   "outputs": [
    {
     "name": "stdout",
     "output_type": "stream",
     "text": [
      "Internet connected\n"
     ]
    }
   ],
   "source": [
    "ping_test_ip = 'pitt.edu'\n",
    "ping_result = os.system(\"ping \" + (\"-n 1 \" if  platform.system().lower()==\"windows\" else \"-c 1 \") + ping_test_ip)\n",
    "internet_connection = ''\n",
    "\n",
    "if ping_result == 0:\n",
    "    internet_connection = 'Internet connected'\n",
    "else:\n",
    "    internet_connection = 'No internet connenction!'\n",
    "\n",
    "print(internet_connection)"
   ]
  },
  {
   "cell_type": "code",
   "execution_count": 48,
   "id": "1ef5dd67",
   "metadata": {},
   "outputs": [
    {
     "name": "stdout",
     "output_type": "stream",
     "text": [
      "48:51:c5:28:21:8e\n"
     ]
    }
   ],
   "source": [
    "mac_addr = (':'.join(['{:02x}'.format((uuid.getnode() >> ele) & 0xff)\n",
    "for ele in range(0,8*6,8)][::-1]))\n",
    "\n",
    "print(mac)"
   ]
  },
  {
   "cell_type": "code",
   "execution_count": 2,
   "id": "28fcb3f3",
   "metadata": {},
   "outputs": [
    {
     "ename": "OperationalError",
     "evalue": "could not connect to server: Connection refused (0x0000274D/10061)\n\tIs the server running on host \"localhost\" (::1) and accepting\n\tTCP/IP connections on port 5432?\ncould not connect to server: Connection refused (0x0000274D/10061)\n\tIs the server running on host \"localhost\" (127.0.0.1) and accepting\n\tTCP/IP connections on port 5432?\n",
     "output_type": "error",
     "traceback": [
      "\u001b[1;31m---------------------------------------------------------------------------\u001b[0m",
      "\u001b[1;31mOperationalError\u001b[0m                          Traceback (most recent call last)",
      "\u001b[1;32m<ipython-input-2-93039f7066ed>\u001b[0m in \u001b[0;36m<module>\u001b[1;34m\u001b[0m\n\u001b[1;32m----> 1\u001b[1;33m postgre_connection = db.connect(\n\u001b[0m\u001b[0;32m      2\u001b[0m     \u001b[0mhost\u001b[0m\u001b[1;33m=\u001b[0m\u001b[1;34m\"localhost\"\u001b[0m\u001b[1;33m,\u001b[0m\u001b[1;33m\u001b[0m\u001b[1;33m\u001b[0m\u001b[0m\n\u001b[0;32m      3\u001b[0m     \u001b[0mdatabase\u001b[0m\u001b[1;33m=\u001b[0m\u001b[1;34m\"suppliers\"\u001b[0m\u001b[1;33m,\u001b[0m\u001b[1;33m\u001b[0m\u001b[1;33m\u001b[0m\u001b[0m\n\u001b[0;32m      4\u001b[0m     \u001b[0muser\u001b[0m\u001b[1;33m=\u001b[0m\u001b[1;34m\"postgres\"\u001b[0m\u001b[1;33m,\u001b[0m\u001b[1;33m\u001b[0m\u001b[1;33m\u001b[0m\u001b[0m\n\u001b[0;32m      5\u001b[0m     password=\"Abcd1234\")\n",
      "\u001b[1;32mD:\\Python\\lib\\site-packages\\psycopg2\\__init__.py\u001b[0m in \u001b[0;36mconnect\u001b[1;34m(dsn, connection_factory, cursor_factory, **kwargs)\u001b[0m\n\u001b[0;32m    125\u001b[0m \u001b[1;33m\u001b[0m\u001b[0m\n\u001b[0;32m    126\u001b[0m     \u001b[0mdsn\u001b[0m \u001b[1;33m=\u001b[0m \u001b[0m_ext\u001b[0m\u001b[1;33m.\u001b[0m\u001b[0mmake_dsn\u001b[0m\u001b[1;33m(\u001b[0m\u001b[0mdsn\u001b[0m\u001b[1;33m,\u001b[0m \u001b[1;33m**\u001b[0m\u001b[0mkwargs\u001b[0m\u001b[1;33m)\u001b[0m\u001b[1;33m\u001b[0m\u001b[1;33m\u001b[0m\u001b[0m\n\u001b[1;32m--> 127\u001b[1;33m     \u001b[0mconn\u001b[0m \u001b[1;33m=\u001b[0m \u001b[0m_connect\u001b[0m\u001b[1;33m(\u001b[0m\u001b[0mdsn\u001b[0m\u001b[1;33m,\u001b[0m \u001b[0mconnection_factory\u001b[0m\u001b[1;33m=\u001b[0m\u001b[0mconnection_factory\u001b[0m\u001b[1;33m,\u001b[0m \u001b[1;33m**\u001b[0m\u001b[0mkwasync\u001b[0m\u001b[1;33m)\u001b[0m\u001b[1;33m\u001b[0m\u001b[1;33m\u001b[0m\u001b[0m\n\u001b[0m\u001b[0;32m    128\u001b[0m     \u001b[1;32mif\u001b[0m \u001b[0mcursor_factory\u001b[0m \u001b[1;32mis\u001b[0m \u001b[1;32mnot\u001b[0m \u001b[1;32mNone\u001b[0m\u001b[1;33m:\u001b[0m\u001b[1;33m\u001b[0m\u001b[1;33m\u001b[0m\u001b[0m\n\u001b[0;32m    129\u001b[0m         \u001b[0mconn\u001b[0m\u001b[1;33m.\u001b[0m\u001b[0mcursor_factory\u001b[0m \u001b[1;33m=\u001b[0m \u001b[0mcursor_factory\u001b[0m\u001b[1;33m\u001b[0m\u001b[1;33m\u001b[0m\u001b[0m\n",
      "\u001b[1;31mOperationalError\u001b[0m: could not connect to server: Connection refused (0x0000274D/10061)\n\tIs the server running on host \"localhost\" (::1) and accepting\n\tTCP/IP connections on port 5432?\ncould not connect to server: Connection refused (0x0000274D/10061)\n\tIs the server running on host \"localhost\" (127.0.0.1) and accepting\n\tTCP/IP connections on port 5432?\n"
     ]
    }
   ],
   "source": [
    "postgre_connection = db.connect(\n",
    "    host=\"localhost\",\n",
    "    database=\"suppliers\",\n",
    "    user=\"postgres\",\n",
    "    password=\"Abcd1234\")"
   ]
  },
  {
   "cell_type": "code",
   "execution_count": null,
   "id": "1577c3c2",
   "metadata": {},
   "outputs": [],
   "source": []
  }
 ],
 "metadata": {
  "kernelspec": {
   "display_name": "Python 3 (ipykernel)",
   "language": "python",
   "name": "python3"
  },
  "language_info": {
   "codemirror_mode": {
    "name": "ipython",
    "version": 3
   },
   "file_extension": ".py",
   "mimetype": "text/x-python",
   "name": "python",
   "nbconvert_exporter": "python",
   "pygments_lexer": "ipython3",
   "version": "3.9.7"
  }
 },
 "nbformat": 4,
 "nbformat_minor": 5
}
